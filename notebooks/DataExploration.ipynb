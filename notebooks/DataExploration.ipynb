{
 "cells": [
  {
   "cell_type": "code",
   "execution_count": null,
   "outputs": [],
   "source": [
    "import pandas as pd\n",
    "import numpy as np\n",
    "import json\n",
    "from itertools import combinations\n",
    "from collections import defaultdict\n",
    "\n",
    "from matplotlib import pyplot as plt"
   ],
   "metadata": {
    "collapsed": false
   }
  },
  {
   "cell_type": "markdown",
   "source": [
    "## Getting data and computing basic statistics"
   ],
   "metadata": {
    "collapsed": false
   }
  },
  {
   "cell_type": "code",
   "execution_count": null,
   "outputs": [],
   "source": [
    "# Main data file\n",
    "df = pd.read_csv('../data/evaluations.csv', sep='\\t')\n",
    "\n",
    "# Each row is one participant:\n",
    "# + Columns with names {Paper1, Paper2, ..., Paper10} -- papers the participant chose to include in the dataset\n",
    "# (NaNs stand for cases when a participant reported less than 10)\n",
    "# + Columns with names {Expertise1, Expertise2, ..., Expertise10} -- values of expertise reported by the participant\n",
    "df.head()"
   ],
   "metadata": {
    "collapsed": false
   }
  },
  {
   "cell_type": "code",
   "execution_count": null,
   "outputs": [],
   "source": [
    "# Getting participants\n",
    "participants = set(df['ParticipantID'])\n",
    "\n",
    "# Getting papers\n",
    "papers = set()\n",
    "\n",
    "for x in range(1, 11):\n",
    "    tmp_papers = set(df[~pd.isna(df[f'Paper{x}'])][f'Paper{x}'])\n",
    "    papers = papers.union(tmp_papers)\n",
    "\n",
    "# Translating df from csv to dict of the form {participant: {Paper1: Expertise1, Paper2: Expertise2, ...}}\n",
    "data = {}\n",
    "\n",
    "for idx, row in df.iterrows():\n",
    "\n",
    "    key = str(row['ParticipantID'])\n",
    "\n",
    "    data[key] = {row[f'Paper{x}']: row[f'Expertise{x}'] for x in range(1, 11)\n",
    "                                                            if not pd.isna(row[f'Paper{x}'])}"
   ],
   "metadata": {
    "collapsed": false
   }
  },
  {
   "cell_type": "code",
   "execution_count": null,
   "outputs": [],
   "source": [
    "print(f\"There are {len(participants)} researchers who contributed to the dataset\")\n",
    "print(f\"{len(papers)} unique papers are included in the dataset\")\n",
    "print(f\"The dataset consists of {sum([len(data[key]) for key in data])} datapoints\")"
   ],
   "metadata": {
    "collapsed": false
   }
  },
  {
   "cell_type": "markdown",
   "source": [
    "## More data on participants"
   ],
   "metadata": {
    "collapsed": false
   }
  },
  {
   "cell_type": "code",
   "execution_count": null,
   "outputs": [],
   "source": [
    "# Getting Semantic Scholar profiles of participants\n",
    "rev_profiles = {}\n",
    "\n",
    "for rev in participants:\n",
    "    with open(f'../data/participants/{rev}.json', 'r') as handler:\n",
    "        rev_profiles[rev] = json.load(handler)\n",
    "\n",
    "# Getting bibliography lengths\n",
    "lens = [len(rev_profiles[rev]['papers']) for rev in rev_profiles]\n",
    "\n",
    "print(f\"Minimum number of publications: {min(lens)}\")\n",
    "print(f\"Maximum number of publications: {max(lens)}\")\n",
    "print(f\"Mean number of publications: {round(np.mean(lens))}\")\n",
    "print(f\"Median number of publications: {np.median(lens)}\")\n",
    "\n",
    "# Other demographic statistics are computed by manual inspections of participants' websites"
   ],
   "metadata": {
    "collapsed": false
   }
  },
  {
   "cell_type": "markdown",
   "source": [
    "## More data on papers"
   ],
   "metadata": {
    "collapsed": false
   }
  },
  {
   "cell_type": "code",
   "execution_count": null,
   "outputs": [],
   "source": [
    "# Getting Semantic Scholar profiles of papers\n",
    "pap_profiles = {}\n",
    "\n",
    "for pap in papers:\n",
    "    with open(f'../data/papers/{pap}.json', 'r') as handler:\n",
    "        pap_profiles[pap] = json.load(handler)\n",
    "\n",
    "# Research areas as classified by Semantic Scholar\n",
    "with open('../data/research_areas.json', 'r') as handler:\n",
    "    research_areas = json.load(handler)\n",
    "\n",
    "# Count how many times each paper appears in the participants' reports\n",
    "pap_counter = defaultdict(lambda: 0)\n",
    "\n",
    "for rev in data:\n",
    "    for pap in data[rev]:\n",
    "        pap_counter[pap] += 1\n",
    "\n",
    "print('Dataset statistics:')\n",
    "for x in [1, 2, 3]:\n",
    "    print(f'|--> {len([pap for pap in pap_counter if pap_counter[pap] == x])} papers appear {x} time(s)')"
   ],
   "metadata": {
    "collapsed": false
   }
  },
  {
   "cell_type": "code",
   "execution_count": null,
   "outputs": [],
   "source": [
    "# Getting statistics for Table 2\n",
    "ss_counter, arxiv_counter, pdf_counter, cs_counter, old_counter = 0, 0, 0, 0, 0\n",
    "\n",
    "for key, paper in pap_profiles.items():\n",
    "\n",
    "    if paper['ssId'] is not None:\n",
    "        ss_counter += 1\n",
    "\n",
    "    if paper['arXivId'] is not None:\n",
    "        arxiv_counter += 1\n",
    "\n",
    "    if paper['openAccess']:\n",
    "        pdf_counter += 1\n",
    "\n",
    "    if paper['ssId'] is not None and 'Computer Science' in research_areas[paper['ssId']]:\n",
    "        cs_counter += 1\n",
    "\n",
    "    if paper['year'] < 2020:\n",
    "        old_counter += 1\n",
    "\n",
    "# adding 1 to the counter of CS papers as the paper without a Semantic Scholar identifier belongs to the CS area\n",
    "cs_counter += 1"
   ],
   "metadata": {
    "collapsed": false
   }
  },
  {
   "cell_type": "code",
   "execution_count": null,
   "outputs": [],
   "source": [
    "print(f\"{ss_counter} papers are available on Semantic Scholar\")\n",
    "print(f\"{arxiv_counter} papers are available on arXiv\")\n",
    "print(f\"{pdf_counter} papers have their PDFs publicly available\")\n",
    "print(f\"{cs_counter} papers belong to the CS area\")\n",
    "print(f\"{round(100 - 100 * old_counter / len(papers))}% of papers are published on or after 2020\")"
   ],
   "metadata": {
    "collapsed": false
   }
  },
  {
   "cell_type": "markdown",
   "source": [
    "## More data on self-reported evaluations"
   ],
   "metadata": {
    "collapsed": false
   }
  },
  {
   "cell_type": "code",
   "execution_count": null,
   "outputs": [],
   "source": [
    "stat1, stat2, stat3 = 0, 0, 0\n",
    "\n",
    "responses_per_reviewer = [len(data[rev]) for rev in data]\n",
    "\n",
    "stat1 = sum(responses_per_reviewer)\n",
    "stat2 = np.mean(responses_per_reviewer)\n",
    "stat3 = len([x for x in responses_per_reviewer if x >= 5])\n",
    "\n",
    "print(f\"There are {stat1} evaluations in total\")\n",
    "print(f\"Mean number of evaluations per participant: {round(stat2, 1)}\")\n",
    "print(f\"Number of participants with >= 5 evaluations: {stat3}\")"
   ],
   "metadata": {
    "collapsed": false
   }
  },
  {
   "cell_type": "markdown",
   "source": [
    "### Marginal Expertise: Figure 1(a)"
   ],
   "metadata": {
    "collapsed": false
   }
  },
  {
   "cell_type": "code",
   "execution_count": null,
   "outputs": [],
   "source": [
    "# Bin values of expertise into 4 groups\n",
    "marginal_expertise = {'[1, 2]': 0, '(2, 3]': 0, '(3, 4]': 0, '(4, 5]': 0}\n",
    "\n",
    "for rev in data:\n",
    "    for pap in data[rev]:\n",
    "\n",
    "        # Expertise of reviewer `rev` in reviewing paper `pap`\n",
    "        v = data[rev][pap]\n",
    "\n",
    "        if v <= 2:\n",
    "            marginal_expertise['[1, 2]'] += 1\n",
    "        elif v <= 3:\n",
    "            marginal_expertise['(2, 3]'] += 1\n",
    "        elif v <= 4:\n",
    "            marginal_expertise['(3, 4]'] += 1\n",
    "        elif v <= 5:\n",
    "            marginal_expertise['(4, 5]'] += 1\n",
    "        else:\n",
    "            raise ValueError(\"Wrong value of expertise\")"
   ],
   "metadata": {
    "collapsed": false
   }
  },
  {
   "cell_type": "code",
   "execution_count": null,
   "outputs": [],
   "source": [
    "fig, ax = plt.subplots(1, 1, figsize=(8, 6))\n",
    "\n",
    "ax.bar([1.5, 2.5, 3.5, 4.5], [marginal_expertise['[1, 2]'],\n",
    "                              marginal_expertise['(2, 3]'],\n",
    "                              marginal_expertise['(3, 4]'],\n",
    "                              marginal_expertise['(4, 5]']], width=0.8)\n",
    "\n",
    "_ = ax.xaxis.set_ticks([1.5, 2.5, 3.5, 4.5])\n",
    "_ = ax.set_xticklabels([\"[1, 2]\", \"(2, 3]\", \"(3, 4]\", \"(4, 5]\"])\n",
    "_ = ax.tick_params(axis='both', labelsize=20)\n",
    "ax.set_xlabel(\"Value of expertise\", fontsize=25)\n",
    "ax.set_ylabel(\"Count\", fontsize=25)\n",
    "\n",
    "plt.savefig('../figures/marginal_expertise.pdf', bbox_inches='tight')"
   ],
   "metadata": {
    "collapsed": false
   }
  },
  {
   "cell_type": "markdown",
   "source": [
    "### Pairwise differences in expertise: Figure 1(b)"
   ],
   "metadata": {
    "collapsed": false
   }
  },
  {
   "cell_type": "code",
   "execution_count": null,
   "outputs": [],
   "source": [
    "# Compute histogram of pairwise differences in expertise values reported by participants\n",
    "diffs = defaultdict(lambda: 0)\n",
    "\n",
    "for rev in data:\n",
    "        for p1, p2 in combinations(data[rev].keys(), 2):\n",
    "            diffs[np.abs(data[rev][p1] - data[rev][p2])] += 1\n",
    "\n",
    "diffs_vals = sorted(list(diffs.keys()))\n",
    "\n",
    "frequencies = [diffs[x] for x in diffs_vals]"
   ],
   "metadata": {
    "collapsed": false
   }
  },
  {
   "cell_type": "code",
   "execution_count": null,
   "outputs": [],
   "source": [
    "fig, ax = plt.subplots(1, 1, figsize=(8, 6))\n",
    "\n",
    "ax.bar(diffs_vals, frequencies, width=0.2)\n",
    "_ = ax.tick_params(axis='both', labelsize=20)\n",
    "ax.set_xlabel(\"Difference in expertise\", fontsize=25)\n",
    "ax.set_ylabel(\"Count\", fontsize=25)\n",
    "\n",
    "plt.savefig('../figures/difference_expertise.pdf', bbox_inches='tight')"
   ],
   "metadata": {
    "collapsed": false
   }
  }
 ],
 "metadata": {
  "kernelspec": {
   "display_name": "Python 3",
   "language": "python",
   "name": "python3"
  },
  "language_info": {
   "codemirror_mode": {
    "name": "ipython",
    "version": 2
   },
   "file_extension": ".py",
   "mimetype": "text/x-python",
   "name": "python",
   "nbconvert_exporter": "python",
   "pygments_lexer": "ipython2",
   "version": "2.7.6"
  }
 },
 "nbformat": 4,
 "nbformat_minor": 0
}
